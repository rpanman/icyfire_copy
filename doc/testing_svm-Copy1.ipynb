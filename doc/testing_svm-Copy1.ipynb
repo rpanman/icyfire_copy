{
 "cells": [
  {
   "cell_type": "code",
   "execution_count": 2,
   "metadata": {
    "collapsed": false
   },
   "outputs": [],
   "source": [
    "import numpy as np\n",
    "import time\n",
    "import torch\n",
    "from torch.autograd import Variable\n",
    "import matplotlib.pyplot as plt\n",
    "import collections\n",
    "import itertools\n",
    "from sklearn import preprocessing"
   ]
  },
  {
   "cell_type": "code",
   "execution_count": 3,
   "metadata": {
    "collapsed": false
   },
   "outputs": [
    {
     "name": "stdout",
     "output_type": "stream",
     "text": [
      "/Users/RichardP/research/icyfire/py\n"
     ]
    }
   ],
   "source": [
    "cd ../../py"
   ]
  },
  {
   "cell_type": "code",
   "execution_count": 4,
   "metadata": {
    "collapsed": false
   },
   "outputs": [],
   "source": [
    "import fire_data as dat\n",
    "import fire_svm as clf\n",
    "import fire_model as model\n",
    "import fire_org as org \n",
    "import fire_uncertainty as unc"
   ]
  },
  {
   "cell_type": "code",
   "execution_count": 5,
   "metadata": {
    "collapsed": false
   },
   "outputs": [],
   "source": [
    "file_read = dat.file_read('/Users/RichardP/research/icyfire/data/sage5.fits')\n",
    "data = dat.data_to_pytorch(file_read.data[:242])"
   ]
  },
  {
   "cell_type": "code",
   "execution_count": 6,
   "metadata": {
    "collapsed": false
   },
   "outputs": [
    {
     "name": "stdout",
     "output_type": "stream",
     "text": [
      "{'RSG': 3, 'OAGB': 2, 'CAGB': 1}\n"
     ]
    }
   ],
   "source": [
    "name_labels = {}\n",
    "counter = 1\n",
    "for i in data.name_unique:\n",
    "    name_labels[i] = counter\n",
    "    counter += 1\n",
    "data.relabelling(name_labels)\n",
    "print(name_labels)"
   ]
  },
  {
   "cell_type": "code",
   "execution_count": 7,
   "metadata": {
    "collapsed": true
   },
   "outputs": [],
   "source": [
    "label_carb = org.multistep(data.label)\n",
    "spectra_oxy, label_oxy = org.deletion(data.spectra, data.label)"
   ]
  },
  {
   "cell_type": "code",
   "execution_count": 8,
   "metadata": {
    "collapsed": false
   },
   "outputs": [],
   "source": [
    "#training_carb, testing_carb, train_carb, test_carb, = data.randomization(label_carb, data.spectra, 90)\n",
    "#training_oxy, testing_oxy, train_oxy, test_oxy, = data.randomization(label_oxy, spectra_oxy, 90)\n",
    "#training, testing, train, test = data.randomization(data.label, data.spectra, 90)"
   ]
  },
  {
   "cell_type": "code",
   "execution_count": 9,
   "metadata": {
    "collapsed": false
   },
   "outputs": [],
   "source": [
    "loss = {}\n",
    "predictions = {}\n",
    "errors = {}\n",
    "correct = {}\n",
    "source = {}\n",
    "counts = {}\n",
    "spec = {}\n",
    "loss['carb'] = np.array([])\n",
    "predictions['carb'] = np.array([])\n",
    "errors['carb'] = np.array([])\n",
    "correct['carb'] = np.array([])\n",
    "source['carb'] = np.array([])\n",
    "counts['carb'] = np.array([])\n",
    "spec['carb'] = np.array([data.spectra[0]])\n",
    "loss['oxy'] = np.array([])\n",
    "predictions['oxy'] = np.array([])\n",
    "errors['oxy'] = np.array([])\n",
    "correct['oxy'] = np.array([])\n",
    "source['oxy'] = np.array([])\n",
    "counts['oxy'] = np.array([])\n",
    "spec['oxy'] = np.array([data.spectra[0]])\n"
   ]
  },
  {
   "cell_type": "code",
   "execution_count": 20,
   "metadata": {
    "collapsed": false
   },
   "outputs": [
    {
     "data": {
      "text/plain": [
       "tensor(2.)"
      ]
     },
     "execution_count": 20,
     "metadata": {},
     "output_type": "execute_result"
    }
   ],
   "source": [
    "testing['y'][1]"
   ]
  },
  {
   "cell_type": "code",
   "execution_count": 10,
   "metadata": {
    "collapsed": false
   },
   "outputs": [
    {
     "ename": "KeyboardInterrupt",
     "evalue": "",
     "output_type": "error",
     "traceback": [
      "\u001b[0;31m---------------------------------------------------------------------------\u001b[0m",
      "\u001b[0;31mKeyboardInterrupt\u001b[0m                         Traceback (most recent call last)",
      "\u001b[0;32m<ipython-input-10-caaba5b074ef>\u001b[0m in \u001b[0;36m<module>\u001b[0;34m()\u001b[0m\n\u001b[1;32m     11\u001b[0m     \u001b[0msource\u001b[0m\u001b[0;34m[\u001b[0m\u001b[0;34m'carb'\u001b[0m\u001b[0;34m]\u001b[0m \u001b[0;34m=\u001b[0m \u001b[0mnp\u001b[0m\u001b[0;34m.\u001b[0m\u001b[0mappend\u001b[0m\u001b[0;34m(\u001b[0m\u001b[0msource\u001b[0m\u001b[0;34m[\u001b[0m\u001b[0;34m'carb'\u001b[0m\u001b[0;34m]\u001b[0m\u001b[0;34m,\u001b[0m \u001b[0mtesting\u001b[0m\u001b[0;34m[\u001b[0m\u001b[0;34m'index'\u001b[0m\u001b[0;34m]\u001b[0m\u001b[0;34m[\u001b[0m\u001b[0mfire\u001b[0m\u001b[0;34m.\u001b[0m\u001b[0mmask\u001b[0m\u001b[0;34m]\u001b[0m\u001b[0;34m)\u001b[0m\u001b[0;34m\u001b[0m\u001b[0m\n\u001b[1;32m     12\u001b[0m     \u001b[0mcounts\u001b[0m\u001b[0;34m[\u001b[0m\u001b[0;34m'carb'\u001b[0m\u001b[0;34m]\u001b[0m \u001b[0;34m=\u001b[0m \u001b[0mnp\u001b[0m\u001b[0;34m.\u001b[0m\u001b[0mappend\u001b[0m\u001b[0;34m(\u001b[0m\u001b[0mcounts\u001b[0m\u001b[0;34m[\u001b[0m\u001b[0;34m'carb'\u001b[0m\u001b[0;34m]\u001b[0m\u001b[0;34m,\u001b[0m \u001b[0mtesting\u001b[0m\u001b[0;34m[\u001b[0m\u001b[0;34m'index'\u001b[0m\u001b[0;34m]\u001b[0m\u001b[0;34m)\u001b[0m\u001b[0;34m\u001b[0m\u001b[0m\n\u001b[0;32m---> 13\u001b[0;31m     \u001b[0mspec\u001b[0m\u001b[0;34m[\u001b[0m\u001b[0;34m'carb'\u001b[0m\u001b[0;34m]\u001b[0m \u001b[0;34m=\u001b[0m \u001b[0mnp\u001b[0m\u001b[0;34m.\u001b[0m\u001b[0mvstack\u001b[0m\u001b[0;34m(\u001b[0m\u001b[0;34m(\u001b[0m\u001b[0mspec\u001b[0m\u001b[0;34m[\u001b[0m\u001b[0;34m'carb'\u001b[0m\u001b[0;34m]\u001b[0m\u001b[0;34m,\u001b[0m \u001b[0mtest\u001b[0m\u001b[0;34m[\u001b[0m\u001b[0;34m'x'\u001b[0m\u001b[0;34m]\u001b[0m\u001b[0;34m[\u001b[0m\u001b[0mfire\u001b[0m\u001b[0;34m.\u001b[0m\u001b[0mmask\u001b[0m\u001b[0;34m]\u001b[0m\u001b[0;34m)\u001b[0m\u001b[0;34m)\u001b[0m\u001b[0;34m\u001b[0m\u001b[0m\n\u001b[0m\u001b[1;32m     14\u001b[0m \u001b[0mspec\u001b[0m\u001b[0;34m[\u001b[0m\u001b[0;34m'carb'\u001b[0m\u001b[0;34m]\u001b[0m \u001b[0;34m=\u001b[0m \u001b[0mnp\u001b[0m\u001b[0;34m.\u001b[0m\u001b[0mdelete\u001b[0m\u001b[0;34m(\u001b[0m\u001b[0mspec\u001b[0m\u001b[0;34m[\u001b[0m\u001b[0;34m'carb'\u001b[0m\u001b[0;34m]\u001b[0m\u001b[0;34m,\u001b[0m \u001b[0;36m0\u001b[0m\u001b[0;34m,\u001b[0m \u001b[0maxis\u001b[0m \u001b[0;34m=\u001b[0m \u001b[0;36m0\u001b[0m\u001b[0;34m)\u001b[0m\u001b[0;34m\u001b[0m\u001b[0m\n",
      "\u001b[0;32m/Users/RichardP/anaconda3/envs/plue/lib/python3.5/site-packages/numpy/core/shape_base.py\u001b[0m in \u001b[0;36mvstack\u001b[0;34m(tup)\u001b[0m\n\u001b[1;32m    235\u001b[0m \u001b[0;34m\u001b[0m\u001b[0m\n\u001b[1;32m    236\u001b[0m     \"\"\"\n\u001b[0;32m--> 237\u001b[0;31m     \u001b[0;32mreturn\u001b[0m \u001b[0m_nx\u001b[0m\u001b[0;34m.\u001b[0m\u001b[0mconcatenate\u001b[0m\u001b[0;34m(\u001b[0m\u001b[0;34m[\u001b[0m\u001b[0matleast_2d\u001b[0m\u001b[0;34m(\u001b[0m\u001b[0m_m\u001b[0m\u001b[0;34m)\u001b[0m \u001b[0;32mfor\u001b[0m \u001b[0m_m\u001b[0m \u001b[0;32min\u001b[0m \u001b[0mtup\u001b[0m\u001b[0;34m]\u001b[0m\u001b[0;34m,\u001b[0m \u001b[0;36m0\u001b[0m\u001b[0;34m)\u001b[0m\u001b[0;34m\u001b[0m\u001b[0m\n\u001b[0m\u001b[1;32m    238\u001b[0m \u001b[0;34m\u001b[0m\u001b[0m\n\u001b[1;32m    239\u001b[0m \u001b[0;32mdef\u001b[0m \u001b[0mhstack\u001b[0m\u001b[0;34m(\u001b[0m\u001b[0mtup\u001b[0m\u001b[0;34m)\u001b[0m\u001b[0;34m:\u001b[0m\u001b[0;34m\u001b[0m\u001b[0m\n",
      "\u001b[0;31mKeyboardInterrupt\u001b[0m: "
     ]
    }
   ],
   "source": [
    "for i in range(0,1000):\n",
    "    training, testing, train, test = data.randomization(data.label, data.spectra, 90)\n",
    "    fire = clf.svm_network(training['x'], training['y'], testing['x'], testing['y'], c= 868, gamma = 0.0001, kernel = 'rbf')\n",
    "    \n",
    "    loss['carb'] = np.append(loss['carb'], fire.loss.item())\n",
    "    conf = fire.confidence(testing['x'], testing['y'])\n",
    "    predictions['carb'] = np.append(predictions['carb'], fire.prediction)\n",
    "    errors['carb'] = np.append(errors['carb'], fire.predict_error)\n",
    "    correct['carb'] = np.append(correct['carb'], fire.actual_error)\n",
    "    predictions['carb'] = np.delete(predictions['carb'], fire.mask)\n",
    "    source['carb'] = np.append(source['carb'], testing['index'][fire.mask])\n",
    "    counts['carb'] = np.append(counts['carb'], testing['index'])\n",
    "    spec['carb'] = np.vstack((spec['carb'], test['x'][fire.mask]))\n",
    "spec['carb'] = np.delete(spec['carb'], 0, axis = 0)\n"
   ]
  },
  {
   "cell_type": "raw",
   "metadata": {
    "collapsed": false
   },
   "source": [
    "for i in range(0,1000):\n",
    "    training_carb, testing_carb, train_carb, test_carb, = data.randomization(label_carb, data.spectra, 90)\n",
    "    fire_carb = clf.svm_network(training_carb['x'], training_carb['y'], testing_carb['x'], testing_carb['y'], c= 1, gamma = 0.01, kernel = 'rbf')\n",
    "    \n",
    "    loss['carb'] = np.append(loss['carb'], fire_carb.loss.item())\n",
    "    conf = fire_carb.confidence(testing_carb['x'], testing_carb['y'])\n",
    "    predictions['carb'] = np.append(predictions['carb'], fire_carb.prediction)\n",
    "    errors['carb'] = np.append(errors['carb'], fire_carb.predict_error)\n",
    "    correct['carb'] = np.append(correct['carb'], fire_carb.actual_error)\n",
    "    predictions['carb'] = np.delete(predictions['carb'], fire_carb.mask)\n",
    "    source['carb'] = np.append(source['carb'], testing_carb['index'][fire_carb.mask])\n",
    "    counts['carb'] = np.append(counts['carb'], testing_carb['index'])\n",
    "    spec['carb'] = np.vstack((spec['carb'], test_carb['x'][fire_carb.mask]))\n",
    "spec['carb'] = np.delete(spec['carb'], 0, axis = 0)\n",
    "\n"
   ]
  },
  {
   "cell_type": "raw",
   "metadata": {
    "collapsed": false
   },
   "source": [
    "for i in range(0,1000):\n",
    "    training_oxy, testing_oxy, train_oxy, test_oxy, = data.randomization(label_oxy, spectra_oxy, 90)\n",
    "    fire_oxy = clf.svm_network(training_oxy['x'], training_oxy['y'], testing_oxy['x'], testing_oxy['y'], c=2600 ,gamma = 0.0001, kernel = 'rbf')\n",
    "    \n",
    "    loss['oxy'] = np.append(loss['oxy'], fire_oxy.loss.item())\n",
    "    conf = fire_oxy.confidence(testing_oxy['x'], testing_oxy['y'])\n",
    "    predictions['oxy'] = np.append(predictions['oxy'], fire_oxy.prediction)\n",
    "    errors['oxy'] = np.append(errors['oxy'], fire_oxy.predict_error)\n",
    "    correct['oxy'] = np.append(correct['oxy'], fire_oxy.actual_error)\n",
    "    predictions['oxy'] = np.delete(predictions['oxy'], fire_oxy.mask)\n",
    "    source['oxy'] = np.append(source['oxy'], testing_oxy['index'][fire_oxy.mask])\n",
    "    counts['oxy'] = np.append(counts['oxy'], testing_oxy['index'])\n",
    "    spec['oxy'] = np.vstack((spec['oxy'], test_oxy['x'][fire_oxy.mask]))\n",
    "spec['oxy'] = np.delete(spec['oxy'], 0, axis = 0)\n",
    "    \n",
    "    "
   ]
  },
  {
   "cell_type": "code",
   "execution_count": 16,
   "metadata": {
    "collapsed": false
   },
   "outputs": [],
   "source": [
    "grid_carb, acc_carb = org.correct_dispersion(predictions['carb'], integer = True)\n",
    "#grid_oxy, acc_oxy = org.correct_dispersion(predictions['oxy'], integer = True)"
   ]
  },
  {
   "cell_type": "code",
   "execution_count": 17,
   "metadata": {
    "collapsed": false
   },
   "outputs": [],
   "source": [
    "mask_carb, conf_carb = org.error_dispersion(errors['carb'], correct['carb'], predictions['carb'])\n",
    "#mask_oxy, conf_oxy = org.error_dispersion(errors['oxy'], correct['oxy'], predictions['oxy'])#"
   ]
  },
  {
   "cell_type": "code",
   "execution_count": 18,
   "metadata": {
    "collapsed": false
   },
   "outputs": [],
   "source": [
    "#data_carb = scattering(acc_carb, conf_carb)\n",
    "#data_oxy = scattering(acc_oxy, conf_oxy)"
   ]
  },
  {
   "cell_type": "code",
   "execution_count": 19,
   "metadata": {
    "collapsed": false,
    "scrolled": false
   },
   "outputs": [
    {
     "data": {
      "image/png": "[encoded data removed]",
      "text/plain": [
       "<matplotlib.figure.Figure at 0x116955b00>"
      ]
     },
     "metadata": {},
     "output_type": "display_data"
    }
   ],
   "source": [
    "comp = model.comparisons\n",
    "data1 = comp(conf_carb,acc_carb)\n",
    "#data2 = comp(conf_oxy,acc_oxy)\n",
    "#data3 = comp(conf_carb,acc_carb)\n",
    "#data4 = comp(conf_oxy,acc_oxy)\n",
    "comp.graph(comp, data1.grid, data1.grid)#, data3.grid, data4.grid)"
   ]
  },
  {
   "cell_type": "code",
   "execution_count": 20,
   "metadata": {
    "collapsed": false
   },
   "outputs": [
    {
     "data": {
      "text/plain": [
       "array([[  1.30416667,   3.00833333,  22.6125    ],\n",
       "       [  0.85416667,  22.95416667,   3.075     ],\n",
       "       [ 45.90833333,   0.        ,   0.28333333]])"
      ]
     },
     "execution_count": 20,
     "metadata": {},
     "output_type": "execute_result"
    }
   ],
   "source": [
    "data1.grid/np.sum(data1.grid) * 100"
   ]
  },
  {
   "cell_type": "code",
   "execution_count": 22,
   "metadata": {
    "collapsed": false
   },
   "outputs": [
    {
     "ename": "NameError",
     "evalue": "name 'data2' is not defined",
     "output_type": "error",
     "traceback": [
      "\u001b[0;31m---------------------------------------------------------------------------\u001b[0m",
      "\u001b[0;31mNameError\u001b[0m                                 Traceback (most recent call last)",
      "\u001b[0;32m<ipython-input-22-ae2f95a1bad9>\u001b[0m in \u001b[0;36m<module>\u001b[0;34m()\u001b[0m\n\u001b[0;32m----> 1\u001b[0;31m \u001b[0mdata2\u001b[0m\u001b[0;34m.\u001b[0m\u001b[0mgrid\u001b[0m\u001b[0;34m/\u001b[0m\u001b[0mnp\u001b[0m\u001b[0;34m.\u001b[0m\u001b[0msum\u001b[0m\u001b[0;34m(\u001b[0m\u001b[0mdata2\u001b[0m\u001b[0;34m.\u001b[0m\u001b[0mgrid\u001b[0m\u001b[0;34m)\u001b[0m \u001b[0;34m*\u001b[0m \u001b[0;36m100\u001b[0m\u001b[0;34m\u001b[0m\u001b[0m\n\u001b[0m",
      "\u001b[0;31mNameError\u001b[0m: name 'data2' is not defined"
     ]
    }
   ],
   "source": [
    "data2.grid/np.sum(data2.grid) * 100"
   ]
  },
  {
   "cell_type": "code",
   "execution_count": 23,
   "metadata": {
    "collapsed": false
   },
   "outputs": [
    {
     "ename": "NameError",
     "evalue": "name 'train_oxy' is not defined",
     "output_type": "error",
     "traceback": [
      "\u001b[0;31m---------------------------------------------------------------------------\u001b[0m",
      "\u001b[0;31mNameError\u001b[0m                                 Traceback (most recent call last)",
      "\u001b[0;32m<ipython-input-23-b99ddc7a504e>\u001b[0m in \u001b[0;36m<module>\u001b[0;34m()\u001b[0m\n\u001b[0;32m----> 1\u001b[0;31m \u001b[0mtrain_oxy\u001b[0m\u001b[0;34m[\u001b[0m\u001b[0;34m'y'\u001b[0m\u001b[0;34m]\u001b[0m\u001b[0;34m.\u001b[0m\u001b[0mshape\u001b[0m\u001b[0;34m\u001b[0m\u001b[0m\n\u001b[0m",
      "\u001b[0;31mNameError\u001b[0m: name 'train_oxy' is not defined"
     ]
    }
   ],
   "source": [
    "train_oxy['y'].shape"
   ]
  },
  {
   "cell_type": "code",
   "execution_count": 21,
   "metadata": {
    "collapsed": false
   },
   "outputs": [
    {
     "name": "stdout",
     "output_type": "stream",
     "text": [
      "(0,)\n",
      "(2046,)\n"
     ]
    }
   ],
   "source": [
    "print(errors['oxy'].shape)\n",
    "print(errors['carb'].shape)"
   ]
  },
  {
   "cell_type": "code",
   "execution_count": null,
   "metadata": {
    "collapsed": false
   },
   "outputs": [],
   "source": [
    "pop_carb = np.array(collections.Counter(source['carb']).most_common(50))\n",
    "pop_oxy = np.array(collections.Counter(source['oxy']).most_common(30))"
   ]
  },
  {
   "cell_type": "code",
   "execution_count": null,
   "metadata": {
    "collapsed": false
   },
   "outputs": [],
   "source": [
    "pop_carb"
   ]
  },
  {
   "cell_type": "code",
   "execution_count": null,
   "metadata": {
    "collapsed": false
   },
   "outputs": [],
   "source": [
    "misclass_carb = [146.0, 144.0, 61.0,]\n",
    "for i in range(0,len(pop_carb)):\n",
    "    if pop_carb[:,1][i]/ np.shape(np.where(counts['carb'] == pop_carb[:,0][i])[0]) > .5:\n",
    "        x = np.where(source['carb'] == pop_carb[i][0])\n",
    "        plt.plot(file_read.data['Wave'][x[0][0]], spec['carb'][x[0][0]])\n",
    "        plt.show()\n",
    "        misclass_carb.append(pop_carb[i][0])"
   ]
  },
  {
   "cell_type": "code",
   "execution_count": null,
   "metadata": {
    "collapsed": false,
    "scrolled": false
   },
   "outputs": [],
   "source": [
    "misclass_oxy = []\n",
    "mask_oxy = np.where(np.array(file_read.data['Name']) != '1')\n",
    "for i in range(0,len(pop_oxy)):\n",
    "    y = (\n",
    "        pop_oxy[:,1][i]\n",
    "        / np.shape(np.where(counts['oxy'] == pop_oxy[:,0][i])[0]))\n",
    "    if y > .75:\n",
    "        actual = file_read.data['Name'][mask_oxy[0][int(pop_oxy[:,0][i])]]\n",
    "        x = np.where(source['oxy'] == pop_oxy[i][0])\n",
    "        plt.figure(figsize = (15,7))\n",
    "        label = str(actual) + ' Spectra'\n",
    "        print([mask_oxy[0][int(pop_oxy[:,0][i])]])\n",
    "        plt.title(label)\n",
    "        plt.xlabel('Wavelength (Jansky)')\n",
    "        plt.ylabel('Flux (Jansky)')\n",
    "        plt.plot(\n",
    "            file_read.data['Wave'][x[0][0]], \n",
    "            spec['oxy'][x[0][0]])\n",
    "        plt.show()\n",
    "        misclass_oxy.append([mask_oxy[0][int(pop_oxy[:,0][i])]])"
   ]
  },
  {
   "cell_type": "code",
   "execution_count": null,
   "metadata": {
    "collapsed": false,
    "scrolled": true
   },
   "outputs": [],
   "source": [
    "print(np.unique(misclass_oxy))"
   ]
  },
  {
   "cell_type": "code",
   "execution_count": null,
   "metadata": {
    "collapsed": true
   },
   "outputs": [],
   "source": []
  },
  {
   "cell_type": "code",
   "execution_count": null,
   "metadata": {
    "collapsed": false
   },
   "outputs": [],
   "source": [
    "j = 61\n",
    "objects = {}\n",
    "fluxxing = {}\n",
    "objects[j] = np.zeros([1,1000])\n",
    "fluxxing[j] = np.zeros([1,1000])\n",
    "dflux = file_read.data['Dflux'][j]\n",
    "for i in range(0,364):\n",
    "    x = np.random.normal(file_read.data['Flux'][j][i], (dflux[i]),1000)\n",
    "    x = np.reshape(x,(1,1000))\n",
    "    cha = file_read.data['Flux'][j][i] - x\n",
    "    fluxxing[j]= np.vstack((fluxxing[j], cha))\n",
    "    objects[j] = np.vstack((objects[j], x))\n",
    "#for i in range(300, 364):\n",
    "#    x = np.random.normal(file_read.data['Flux'][60][i], (dflux[i]/3),1000)\n",
    "#    x = np.reshape(x,(1,1000))\n",
    "#    object[60] = np.vstack((object[60], x))\n",
    "objects[j] = np.delete(objects[j], 0, axis = 0)\n"
   ]
  },
  {
   "cell_type": "code",
   "execution_count": null,
   "metadata": {
    "collapsed": false
   },
   "outputs": [],
   "source": [
    "objects[j].shape\n",
    "print(file_read.data['Name'][j])"
   ]
  },
  {
   "cell_type": "code",
   "execution_count": null,
   "metadata": {
    "collapsed": false
   },
   "outputs": [],
   "source": [
    "predict = []\n",
    "for i in range(0,1000):\n",
    "    x = np.reshape(preprocessing.scale(objects[j][:,i]), (1,364)) + 5\n",
    "    estim = fire_carb.clf.predict(x)\n",
    "    predict.append(estim)\n",
    "np.unique(predict)\n"
   ]
  },
  {
   "cell_type": "code",
   "execution_count": null,
   "metadata": {
    "collapsed": false
   },
   "outputs": [],
   "source": [
    "np.where(np.array(predict) < 2)"
   ]
  },
  {
   "cell_type": "code",
   "execution_count": null,
   "metadata": {
    "collapsed": false,
    "scrolled": true
   },
   "outputs": [],
   "source": [
    "j = 61\n",
    "wave = file_read.data['Wave'][j][:-1]\n",
    "fig, ax = plt.subplots(2, squeeze = True, figsize=(10,10))\n",
    "multi = 3\n",
    "plot_spectra = objects[j]\n",
    "plot_dflux = fluxxing[j]\n",
    "std = np.array([])\n",
    "for i in range(0, 364):\n",
    "    plot_mean = np.mean(plot_spectra[i])\n",
    "    plot_std = np.std(plot_dflux[i])\n",
    "    plot_median = np.median(plot_spectra[i])\n",
    "    std = np.append(std, plot_std)\n",
    "    ax[0].scatter(wave[i], plot_mean, c = 'b', s = 5, zorder = 10)\n",
    "    #ax[0].scatter(wave[i], plot_median, c = 'g')\n",
    "    ax[0].vlines(\n",
    "        x = wave[i],\n",
    "        ymin = plot_mean - (multi * plot_std),\n",
    "        ymax = plot_mean + (multi * plot_std),\n",
    "        color = 'r', zorder = 0)\n",
    "        \n",
    "\n",
    "ax[1].hist(std, 20)\n",
    "ax[0].set_title('Spectra with Uncertainty')\n",
    "ax[0].set_xlabel('Wavelength (microns)')\n",
    "ax[0].set_ylabel('Flux')\n",
    "#ax[1].set_xticks('')\n",
    "#ax[1].set_ylabel('Counts')\n",
    "plt.show()"
   ]
  },
  {
   "cell_type": "code",
   "execution_count": null,
   "metadata": {
    "collapsed": false
   },
   "outputs": [],
   "source": []
  },
  {
   "cell_type": "code",
   "execution_count": null,
   "metadata": {
    "collapsed": false
   },
   "outputs": [],
   "source": [
    "corr = np.where(np.array(predict) == 1)\n",
    "corr[0].shape"
   ]
  },
  {
   "cell_type": "code",
   "execution_count": null,
   "metadata": {
    "collapsed": false
   },
   "outputs": [],
   "source": [
    "plt.errorbar(\n",
    "    file_read.data['Wave'][4], \n",
    "    file_read.data['Flux'][4], \n",
    "    yerr = file_read.data['Dflux'][4])\n",
    "plt.show()"
   ]
  },
  {
   "cell_type": "code",
   "execution_count": null,
   "metadata": {
    "collapsed": false
   },
   "outputs": [],
   "source": []
  },
  {
   "cell_type": "code",
   "execution_count": null,
   "metadata": {
    "collapsed": false
   },
   "outputs": [],
   "source": [
    "plt.plot(file_read.data['Wave'][61][:-1], preprocessing.scale(file_read.data['Flux'][196][:-1]) + 5)\n",
    "#plt.plot(file_read.data['Wave'][60][:-1], file_read.data['Dflux'][60][:-1])\n",
    "plt.show()"
   ]
  },
  {
   "cell_type": "code",
   "execution_count": null,
   "metadata": {
    "collapsed": false
   },
   "outputs": [],
   "source": [
    "uncertainties = unc.data_uncertainty(file_read.data)\n",
    "uncertainties.gen_spec(1000)"
   ]
  },
  {
   "cell_type": "code",
   "execution_count": null,
   "metadata": {
    "collapsed": false
   },
   "outputs": [],
   "source": [
    "import matplotlib.colors as colors\n",
    "from mpl_toolkits.axes_grid1 import make_axes_locatable\n",
    "def graph(data1, data2): #, data3, data4):\n",
    "        f, (ax1,ax2) = plt.subplots(1,\n",
    "                                    2, squeeze = True, figsize=(20,15))\n",
    "\n",
    "        #This normalizes the data into creating \"probability\" plots\n",
    "        data = [data1, data2]\n",
    "        data1 = data1/np.sum(data1)\n",
    "        data2 = data2/np.sum(data2)\n",
    "\n",
    "\n",
    "        #Graphs the first subplot in the top left \n",
    "        axis1 = ax1.imshow(\n",
    "            data1, norm = colors.LogNorm(vmin = 0.01, vmax = 1),\n",
    "            interpolation = 'nearest', cmap = 'gray')\n",
    "        ax1.set_title('Predictions vs Actual', fontsize = 30)\n",
    "        ax1.set_xlabel('Prediction', fontsize = 20)\n",
    "        ax1.set_ylabel('Actual', fontsize = 20)\n",
    "\n",
    "        #Graphs the first subplot in the top right \n",
    "        axis2 = ax2.imshow(\n",
    "            data2, norm = colors.LogNorm(vmin = 0.01, vmax = 1),\n",
    "            interpolation = 'nearest', cmap = 'gray')\n",
    "        ax2.set_title('OAGB v RSG', fontsize = 30)\n",
    "        ax2.set_xlabel('Prediction', fontsize = 20)\n",
    "        ax2.set_ylabel('Actual', fontsize = 20)\n",
    "\n",
    "\n",
    "        #Adds tick marks with labels to each subplot.\n",
    "        axes = [ax1, ax2]\n",
    "        axis = [axis1, axis2]\n",
    "        for i in axes:\n",
    "            plt.setp(i, xticks= [0,1,2], xticklabels=['CAGB','OAGB','RSG'],\n",
    "                     yticks=np.arange(2,-1, -1), yticklabels = ['CAGB','OAGB','RSG'])\n",
    "        plt.rc('xtick',labelsize=20)\n",
    "        plt.rc('ytick',labelsize=20)\n",
    "\n",
    "        plt.show()\n",
    "graph(data1.grid, data1.grid)"
   ]
  },
  {
   "cell_type": "markdown",
   "metadata": {},
   "source": [
    "#### "
   ]
  },
  {
   "cell_type": "code",
   "execution_count": 27,
   "metadata": {
    "collapsed": false
   },
   "outputs": [
    {
     "ename": "AttributeError",
     "evalue": "type object 'Table' has no attribute 'close'",
     "output_type": "error",
     "traceback": [
      "\u001b[0;31m---------------------------------------------------------------------------\u001b[0m",
      "\u001b[0;31mAttributeError\u001b[0m                            Traceback (most recent call last)",
      "\u001b[0;32m<ipython-input-27-6c5f37ba13f0>\u001b[0m in \u001b[0;36m<module>\u001b[0;34m()\u001b[0m\n\u001b[1;32m      1\u001b[0m \u001b[0;32mfrom\u001b[0m \u001b[0mastropy\u001b[0m\u001b[0;34m.\u001b[0m\u001b[0mtable\u001b[0m \u001b[0;32mimport\u001b[0m \u001b[0mTable\u001b[0m\u001b[0;34m\u001b[0m\u001b[0m\n\u001b[0;32m----> 2\u001b[0;31m \u001b[0mTable\u001b[0m\u001b[0;34m.\u001b[0m\u001b[0mclose\u001b[0m\u001b[0;34m(\u001b[0m\u001b[0;34m)\u001b[0m\u001b[0;34m\u001b[0m\u001b[0m\n\u001b[0m",
      "\u001b[0;31mAttributeError\u001b[0m: type object 'Table' has no attribute 'close'"
     ]
    }
   ],
   "source": []
  },
  {
   "cell_type": "code",
   "execution_count": null,
   "metadata": {
    "collapsed": false
   },
   "outputs": [],
   "source": [
    "import os\n",
    "os.system('say \"your program has finished\"')"
   ]
  },
  {
   "cell_type": "markdown",
   "metadata": {},
   "source": [
    "1. Dflux that it chose for each wavelength\n",
    "2. Histogram + graph\n",
    "3. Target features \n",
    "4. "
   ]
  }
 ],
 "metadata": {
  "anaconda-cloud": {},
  "kernelspec": {
   "display_name": "Python 3",
   "language": "python",
   "name": "python3"
  },
  "language_info": {
   "codemirror_mode": {
    "name": "ipython",
    "version": 3
   },
   "file_extension": ".py",
   "mimetype": "text/x-python",
   "name": "python",
   "nbconvert_exporter": "python",
   "pygments_lexer": "ipython3",
   "version": "3.5.2"
  }
 },
 "nbformat": 4,
 "nbformat_minor": 2
}
